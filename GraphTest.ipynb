{
 "cells": [
  {
   "cell_type": "code",
   "execution_count": 1,
   "id": "eda21947",
   "metadata": {},
   "outputs": [],
   "source": [
    "import graphistry\n",
    "import pandas as pd\n"
   ]
  },
  {
   "cell_type": "code",
   "execution_count": 3,
   "id": "474775eb",
   "metadata": {},
   "outputs": [
    {
     "name": "stdout",
     "output_type": "stream",
     "text": [
      "0.28.5\n"
     ]
    }
   ],
   "source": [
    "print(graphistry.__version__)\n",
    "graphistry.register(api=3, protocol=\"https\", server=\"hub.graphistry.com\", username=\"goodrahstar\", password=\"\")    \n",
    "\n"
   ]
  },
  {
   "cell_type": "code",
   "execution_count": 4,
   "id": "070f3192",
   "metadata": {},
   "outputs": [],
   "source": [
    "file = '/Users/rk/Downloads/03c4f0d4-5f37-4e96-aff9-506a60c540f8_2022-11-07T13_29_20.309373Z.csv'"
   ]
  },
  {
   "cell_type": "code",
   "execution_count": 5,
   "id": "69342d01",
   "metadata": {
    "scrolled": true
   },
   "outputs": [],
   "source": [
    "df = pd.read_csv(file)\n",
    "df = df.iloc[:100]\n",
    "df = df[['id', 'Baggage_handling', 'Online_boarding', 'On-board_service',\n",
    "       'Flight_Distance', 'Customer_Type', 'Seat_comfort',\n",
    "       'Departure/Arrival_time_convenient', 'Checkin_service',\n",
    "       'Arrival_Delay_in_Minutes', 'Class', 'Gender', 'Age', 'Online_support',\n",
    "       'Inflight_entertainment', 'Food_and_drink', 'Type_of_Travel',\n",
    "       'Ease_of_Online_booking', 'Inflight_wifi_service', 'Leg_room_service',\n",
    "       'satisfaction', 'Gate_location', 'Cleanliness',\n",
    "       'Departure_Delay_in_Minutes']]\n"
   ]
  },
  {
   "cell_type": "code",
   "execution_count": 6,
   "id": "e2dbcf4c",
   "metadata": {},
   "outputs": [
    {
     "name": "stdout",
     "output_type": "stream",
     "text": [
      "# links 2399\n",
      "# events 100\n",
      "# attrib entities 387\n"
     ]
    },
    {
     "data": {
      "text/html": [
       "\n",
       "            <iframe id=\"2361d35f-b65a-4ae1-add0-3ddfde9f7376\" src=\"https://hub.graphistry.com/graph/graph.html?dataset=1d729f92efb34e60a12063df9d098b9c&type=arrow&viztoken=4b7d68dd-0088-4c52-b007-49a8c9303553&usertag=091459f3-pygraphistry-0.28.5&splashAfter=1668780950&info=true\"\n",
       "                    allowfullscreen=\"true\" webkitallowfullscreen=\"true\" mozallowfullscreen=\"true\"\n",
       "                    oallowfullscreen=\"true\" msallowfullscreen=\"true\"\n",
       "                    style=\"width:100%; height:500px; border: 1px solid #DDD; overflow: hidden\"\n",
       "                    \n",
       "            >\n",
       "            </iframe>\n",
       "        \n",
       "            <script>\n",
       "                try {\n",
       "                  $(\"#2361d35f-b65a-4ae1-add0-3ddfde9f7376\").bind('mousewheel', function(e) { e.preventDefault(); });\n",
       "                } catch (e) { console.error('exn catching scroll', e); }\n",
       "            </script>\n",
       "        "
      ],
      "text/plain": [
       "<IPython.core.display.HTML object>"
      ]
     },
     "execution_count": 6,
     "metadata": {},
     "output_type": "execute_result"
    }
   ],
   "source": [
    "g1 = graphistry.hypergraph(df)['graph']\n",
    "g1.plot()"
   ]
  },
  {
   "cell_type": "code",
   "execution_count": 7,
   "id": "3679ad6f",
   "metadata": {},
   "outputs": [
    {
     "data": {
      "text/plain": [
       "Index(['id', 'Baggage_handling', 'Online_boarding', 'On-board_service',\n",
       "       'Flight_Distance', 'Customer_Type', 'Seat_comfort',\n",
       "       'Departure/Arrival_time_convenient', 'Checkin_service',\n",
       "       'Arrival_Delay_in_Minutes', 'Class', 'Gender', 'Age', 'Online_support',\n",
       "       'Inflight_entertainment', 'Food_and_drink', 'Type_of_Travel',\n",
       "       'Ease_of_Online_booking', 'Inflight_wifi_service', 'Leg_room_service',\n",
       "       'satisfaction', 'Gate_location', 'Cleanliness',\n",
       "       'Departure_Delay_in_Minutes'],\n",
       "      dtype='object')"
      ]
     },
     "execution_count": 7,
     "metadata": {},
     "output_type": "execute_result"
    }
   ],
   "source": [
    "df.columns"
   ]
  },
  {
   "cell_type": "code",
   "execution_count": 8,
   "id": "842cbe7a",
   "metadata": {},
   "outputs": [],
   "source": [
    "g = graphistry.nodes(df).featurize(kind='nodes', \n",
    "                                   X=['Baggage_handling', 'Online_boarding', \n",
    "                                       'Arrival_Delay_in_Minutes', 'Class', 'Gender', 'Age', 'Online_support',\n",
    "                                       'Departure_Delay_in_Minutes'],\n",
    "                                   y=['satisfaction']\n",
    "                                  )"
   ]
  },
  {
   "cell_type": "code",
   "execution_count": 9,
   "id": "ee84b7ea",
   "metadata": {},
   "outputs": [],
   "source": [
    "# g = g.umap() ## Kills the kernel"
   ]
  },
  {
   "cell_type": "code",
   "execution_count": 9,
   "id": "b0ff9ca9",
   "metadata": {},
   "outputs": [
    {
     "name": "stdout",
     "output_type": "stream",
     "text": [
      "X     Class_Business  Class_Eco  Class_Eco Plus  Gender_Female  Gender_Male  \\\n",
      "0              0.0        1.0             0.0            0.0          1.0   \n",
      "1              0.0        1.0             0.0            0.0          1.0   \n",
      "2              0.0        1.0             0.0            0.0          1.0   \n",
      "3              0.0        1.0             0.0            0.0          1.0   \n",
      "4              1.0        0.0             0.0            0.0          1.0   \n",
      "..             ...        ...             ...            ...          ...   \n",
      "95             0.0        1.0             0.0            1.0          0.0   \n",
      "96             1.0        0.0             0.0            1.0          0.0   \n",
      "97             1.0        0.0             0.0            1.0          0.0   \n",
      "98             1.0        0.0             0.0            0.0          1.0   \n",
      "99             1.0        0.0             0.0            0.0          1.0   \n",
      "\n",
      "    Baggage_handling  Online_boarding  Arrival_Delay_in_Minutes   Age  \\\n",
      "0                4.0              1.0                       0.0  24.0   \n",
      "1                4.0              3.0                       9.0  16.0   \n",
      "2                5.0              5.0                      24.0  38.0   \n",
      "3                4.0              1.0                       0.0  67.0   \n",
      "4                4.0              5.0                       0.0  23.0   \n",
      "..               ...              ...                       ...   ...   \n",
      "95               4.0              3.0                       0.0   7.0   \n",
      "96               4.0              2.0                       0.0  30.0   \n",
      "97               2.0              1.0                       0.0  34.0   \n",
      "98               3.0              4.0                       0.0  52.0   \n",
      "99               5.0              5.0                       0.0  56.0   \n",
      "\n",
      "    Online_support  Departure_Delay_in_Minutes  \n",
      "0              1.0                         0.0  \n",
      "1              3.0                         0.0  \n",
      "2              5.0                         0.0  \n",
      "3              1.0                        10.0  \n",
      "4              5.0                         0.0  \n",
      "..             ...                         ...  \n",
      "95             5.0                         0.0  \n",
      "96             2.0                         0.0  \n",
      "97             3.0                         5.0  \n",
      "98             4.0                         0.0  \n",
      "99             4.0                         0.0  \n",
      "\n",
      "[100 rows x 11 columns]\n",
      "y     satisfaction\n",
      "0              0\n",
      "1              0\n",
      "2              0\n",
      "3              0\n",
      "4              1\n",
      "..           ...\n",
      "95             1\n",
      "96             1\n",
      "97             0\n",
      "98             1\n",
      "99             1\n",
      "\n",
      "[100 rows x 1 columns]\n"
     ]
    }
   ],
   "source": [
    "print('X', g._node_features)\n",
    "print('y', g._node_target)"
   ]
  },
  {
   "cell_type": "code",
   "execution_count": null,
   "id": "fea48852",
   "metadata": {},
   "outputs": [
    {
     "name": "stderr",
     "output_type": "stream",
     "text": [
      "OMP: Info #271: omp_set_nested routine deprecated, please use omp_set_max_active_levels instead.\n"
     ]
    }
   ],
   "source": [
    "g = g.umap(engine='umap_learn')"
   ]
  },
  {
   "cell_type": "code",
   "execution_count": 1,
   "id": "64485875",
   "metadata": {},
   "outputs": [],
   "source": [
    "# X = g._node_features\n",
    "# y = g._node_target\n",
    "\n",
    "# from sklearn.ensemble import RandomForestRegressor\n",
    "# model = RandomForestRegressor().fit(X, y) #assumes train/test split\n",
    "\n",
    "# new_df = df.loc[:10].fillna(0)\n",
    "\n",
    "# X_new, _ = g.transform(new_df, None, kind='nodes')\n",
    "# preds = model.predict(X_new)"
   ]
  },
  {
   "cell_type": "code",
   "execution_count": 2,
   "id": "2d4aaf65",
   "metadata": {},
   "outputs": [],
   "source": [
    "# embeddings, X_new, _ = g.transform_umap(df, None, kind='nodes')"
   ]
  },
  {
   "cell_type": "code",
   "execution_count": 3,
   "id": "f0114367",
   "metadata": {},
   "outputs": [],
   "source": [
    "# #4. Plot\n",
    "# g = None\n",
    "# hg = None\n",
    "# num_rows = min(max_rows, len(df))\n",
    "# if mode == 'A':\n",
    "#     g = graphistry.edges(df.sample(num_rows)).bind(source=my_src_col, destination=my_dest_col)\n",
    "# elif mode == 'B':\n",
    "#     hg = graphistry.hypergraph(df.sample(num_rows), node_cols, opts={'CATEGORIES': categories})\n",
    "#     g = hg['graph']\n",
    "# elif mode == 'C':\n",
    "#     nodes = list(edges.keys())\n",
    "#     for dests in edges.values():\n",
    "#         for dest in dests:\n",
    "#             nodes.append(dest)\n",
    "#     node_cols = list(set(nodes))\n",
    "#     hg = graphistry.hypergraph(df.sample(num_rows), node_cols, direct=True, opts={'CATEGORIES': categories, 'EDGES': edges})\n",
    "#     g = hg['graph']\n",
    "  \n",
    "\n",
    "# g.plot()"
   ]
  },
  {
   "cell_type": "code",
   "execution_count": null,
   "id": "7fb8133d",
   "metadata": {},
   "outputs": [],
   "source": []
  }
 ],
 "metadata": {
  "kernelspec": {
   "display_name": "Python 3 (ipykernel)",
   "language": "python",
   "name": "python3"
  },
  "language_info": {
   "codemirror_mode": {
    "name": "ipython",
    "version": 3
   },
   "file_extension": ".py",
   "mimetype": "text/x-python",
   "name": "python",
   "nbconvert_exporter": "python",
   "pygments_lexer": "ipython3",
   "version": "3.7.6"
  }
 },
 "nbformat": 4,
 "nbformat_minor": 5
}
